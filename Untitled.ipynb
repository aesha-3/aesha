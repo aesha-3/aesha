{
  "metadata": {
    "language_info": {
      "codemirror_mode": {
        "name": "python",
        "version": 3
      },
      "file_extension": ".py",
      "mimetype": "text/x-python",
      "name": "python",
      "nbconvert_exporter": "python",
      "pygments_lexer": "ipython3",
      "version": "3.8"
    },
    "kernelspec": {
      "name": "python",
      "display_name": "Python (Pyodide)",
      "language": "python"
    }
  },
  "nbformat_minor": 4,
  "nbformat": 4,
  "cells": [
    {
      "cell_type": "markdown",
      "source": "#Data science notebook",
      "metadata": {}
    },
    {
      "cell_type": "markdown",
      "source": "#introduction\nwelcome to my data science notebook in this book we will explore various data science tools\\\n",
      "metadata": {}
    },
    {
      "cell_type": "markdown",
      "source": "#data science languages\npython\nr\nsql\njulia\nc++",
      "metadata": {}
    },
    {
      "cell_type": "markdown",
      "source": "#data science libraries\nnumpy\npandas\nmatplotlib\ntensorflow",
      "metadata": {}
    },
    {
      "cell_type": "markdown",
      "source": "#data science tools\njupyter notebook\nvs code\ngit\ngoogle colab\ntableau\ndocker\n",
      "metadata": {}
    },
    {
      "cell_type": "markdown",
      "source": "#arithmatic expressions\naddition\nsubtraction\nmultiplication\ndivision",
      "metadata": {}
    },
    {
      "cell_type": "code",
      "source": "a=5\nb=6\nmul=a*b\nadd=a+b\nprint(mul)\nprint(add)",
      "metadata": {
        "trusted": true
      },
      "execution_count": 2,
      "outputs": [
        {
          "name": "stdout",
          "text": "30\n11\n",
          "output_type": "stream"
        }
      ]
    },
    {
      "cell_type": "code",
      "source": "def convert_minutes_to_hours(minutes):\n    return minutes / 60\n\nminutes_value = 120\nhours_result = convert_minutes_to_hours(minutes_value)\nprint(f\"{minutes_value} minutes is equal to {hours_result} hours.\")",
      "metadata": {
        "trusted": true
      },
      "execution_count": 12,
      "outputs": [
        {
          "name": "stdout",
          "text": "120 minutes is equal to 2.0 hours.\n",
          "output_type": "stream"
        }
      ]
    },
    {
      "cell_type": "markdown",
      "source": "#objectives\nexplore data manipulation with pandas\nvisualize data with mathplotlib\nunderstand machine learning using cadet",
      "metadata": {}
    },
    {
      "cell_type": "markdown",
      "source": "author aesha",
      "metadata": {}
    }
  ]
}